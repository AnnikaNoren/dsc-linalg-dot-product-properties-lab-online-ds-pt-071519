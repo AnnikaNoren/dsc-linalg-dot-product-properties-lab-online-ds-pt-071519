{
 "cells": [
  {
   "cell_type": "markdown",
   "metadata": {
    "toc": true
   },
   "source": [
    "<h1>Table of Contents<span class=\"tocSkip\"></span></h1>\n",
    "<div class=\"toc\"><ul class=\"toc-item\"><li><span><a href=\"#Properties-of-Dot-Product---Lab\" data-toc-modified-id=\"Properties-of-Dot-Product---Lab-1\"><span class=\"toc-item-num\">1&nbsp;&nbsp;</span>Properties of Dot Product - Lab</a></span><ul class=\"toc-item\"><li><span><a href=\"#Introduction\" data-toc-modified-id=\"Introduction-1.1\"><span class=\"toc-item-num\">1.1&nbsp;&nbsp;</span>Introduction</a></span></li><li><span><a href=\"#Objectives\" data-toc-modified-id=\"Objectives-1.2\"><span class=\"toc-item-num\">1.2&nbsp;&nbsp;</span>Objectives</a></span></li><li><span><a href=\"#Instructions\" data-toc-modified-id=\"Instructions-1.3\"><span class=\"toc-item-num\">1.3&nbsp;&nbsp;</span>Instructions</a></span></li><li><span><a href=\"#Distributive-Property---matrix-multiplication-IS-distributive\" data-toc-modified-id=\"Distributive-Property---matrix-multiplication-IS-distributive-1.4\"><span class=\"toc-item-num\">1.4&nbsp;&nbsp;</span>Distributive Property - matrix multiplication IS distributive</a></span><ul class=\"toc-item\"><li><span><a href=\"#Prove-that-$A-\\cdot-(B+C)-=-(A-\\cdot-B-+-A-\\cdot-C)-$\" data-toc-modified-id=\"Prove-that-$A-\\cdot-(B+C)-=-(A-\\cdot-B-+-A-\\cdot-C)-$-1.4.1\"><span class=\"toc-item-num\">1.4.1&nbsp;&nbsp;</span>Prove that $A \\cdot (B+C) = (A \\cdot B + A \\cdot C) $</a></span></li></ul></li><li><span><a href=\"#Associative-Property---matrix-multiplication-IS-associative\" data-toc-modified-id=\"Associative-Property---matrix-multiplication-IS-associative-1.5\"><span class=\"toc-item-num\">1.5&nbsp;&nbsp;</span>Associative Property - matrix multiplication IS associative</a></span><ul class=\"toc-item\"><li><span><a href=\"#Prove-that-$A-\\cdot-(B-\\cdot-C)-=-(A-\\cdot-B)-\\cdot-C-$\" data-toc-modified-id=\"Prove-that-$A-\\cdot-(B-\\cdot-C)-=-(A-\\cdot-B)-\\cdot-C-$-1.5.1\"><span class=\"toc-item-num\">1.5.1&nbsp;&nbsp;</span>Prove that $A \\cdot (B \\cdot C) = (A \\cdot B) \\cdot C $</a></span></li></ul></li><li><span><a href=\"#Commutative-Property---matrix-multiplication-is-NOT-commutative\" data-toc-modified-id=\"Commutative-Property---matrix-multiplication-is-NOT-commutative-1.6\"><span class=\"toc-item-num\">1.6&nbsp;&nbsp;</span>Commutative Property - matrix multiplication is NOT commutative</a></span><ul class=\"toc-item\"><li><span><a href=\"#Prove-that-for-matrices,-$A-\\cdot-B-\\neq-B-\\cdot-A-$\" data-toc-modified-id=\"Prove-that-for-matrices,-$A-\\cdot-B-\\neq-B-\\cdot-A-$-1.6.1\"><span class=\"toc-item-num\">1.6.1&nbsp;&nbsp;</span>Prove that for matrices, $A \\cdot B \\neq B \\cdot A $</a></span></li></ul></li><li><span><a href=\"#Commutative-Property----vector-multiplication-IS-commutative\" data-toc-modified-id=\"Commutative-Property----vector-multiplication-IS-commutative-1.7\"><span class=\"toc-item-num\">1.7&nbsp;&nbsp;</span>Commutative Property -  vector multiplication IS commutative</a></span><ul class=\"toc-item\"><li><span><a href=\"#Prove-that-for-vectors,--$x^T-\\cdot-y-=-y^T-\\cdot-x$\" data-toc-modified-id=\"Prove-that-for-vectors,--$x^T-\\cdot-y-=-y^T-\\cdot-x$-1.7.1\"><span class=\"toc-item-num\">1.7.1&nbsp;&nbsp;</span>Prove that for vectors,  $x^T \\cdot y = y^T \\cdot x$</a></span></li></ul></li><li><span><a href=\"#Simplification-of-the-matrix-product\" data-toc-modified-id=\"Simplification-of-the-matrix-product-1.8\"><span class=\"toc-item-num\">1.8&nbsp;&nbsp;</span>Simplification of the matrix product</a></span><ul class=\"toc-item\"><li><span><a href=\"#Prove-that-$-(A-\\cdot-B)^T-=-B^T-\\cdot-A^T-$\" data-toc-modified-id=\"Prove-that-$-(A-\\cdot-B)^T-=-B^T-\\cdot-A^T-$-1.8.1\"><span class=\"toc-item-num\">1.8.1&nbsp;&nbsp;</span>Prove that $ (A \\cdot B)^T = B^T \\cdot A^T $</a></span></li></ul></li><li><span><a href=\"#Summary\" data-toc-modified-id=\"Summary-1.9\"><span class=\"toc-item-num\">1.9&nbsp;&nbsp;</span>Summary</a></span></li></ul></li></ul></div>"
   ]
  },
  {
   "cell_type": "markdown",
   "metadata": {},
   "source": [
    "# Properties of Dot Product - Lab\n",
    "\n",
    "## Introduction\n",
    "\n",
    "In this lab, you'll be practicing some interesting properties of a dot product-type matrix multiplication. Understanding these properties will become useful as you study machine learning. The lab will require you to calculate results to provide a proof for these properties.\n",
    "\n",
    "## Objectives\n",
    "\n",
    "In this lab you will: \n",
    "\n",
    "- Demonstrate the distributive, commutative, and associative property of dot products \n",
    "- Use the transpose method to transpose Numpy matrices \n",
    "- Compute the dot product for matrices and vectors \n",
    "\n",
    "\n",
    "## Instructions\n",
    "\n",
    "* For each property, create suitably sized matrices with random data to prove the equations \n",
    "* Ensure that size/dimension assumptions are met while performing calculations (you'll see errors otherwise)\n",
    "* Calculate the LHS and RHS for all equations and show if they are equal or not\n",
    "\n",
    "## Distributive Property - matrix multiplication IS distributive\n",
    "\n",
    "### Prove that $A \\cdot (B+C) = (A \\cdot B + A \\cdot C) $"
   ]
  },
  {
   "cell_type": "code",
   "execution_count": 2,
   "metadata": {},
   "outputs": [],
   "source": [
    "# Your code here\n",
    "import random\n",
    "def fill(C):\n",
    "    rows = C.shape[0]\n",
    "    cols = C.shape[1]\n",
    "\n",
    "    for x in range(0, rows):\n",
    "        for y in range(0,cols):\n",
    "            C[x][y] = random.randint(1,10)\n",
    "    return C\n",
    "\n",
    "matrix1 = np.zeros((4,4))\n",
    "matrix2 = np.zeros((4,4))\n",
    "matrix3 = np.zeros((4,4))\n",
    "\n",
    "A = fill(matrix1)\n",
    "B = fill(matrix2)\n",
    "C = fill(matrix3)"
   ]
  },
  {
   "cell_type": "code",
   "execution_count": 5,
   "metadata": {},
   "outputs": [
    {
     "name": "stdout",
     "output_type": "stream",
     "text": [
      "[[254. 375. 350. 325.]\n",
      " [210. 308. 317. 283.]\n",
      " [164. 240. 260. 228.]\n",
      " [100. 141. 161. 132.]]\n",
      "[[254. 375. 350. 325.]\n",
      " [210. 308. 317. 283.]\n",
      " [164. 240. 260. 228.]\n",
      " [100. 141. 161. 132.]]\n"
     ]
    }
   ],
   "source": [
    "left = A.dot(B+C)\n",
    "print(left)\n",
    "\n",
    "right = A.dot(B) + A.dot(C)\n",
    "print(right)"
   ]
  },
  {
   "cell_type": "markdown",
   "metadata": {},
   "source": [
    "## Associative Property - matrix multiplication IS associative\n",
    "### Prove that $A \\cdot (B \\cdot C) = (A \\cdot B) \\cdot C $"
   ]
  },
  {
   "cell_type": "code",
   "execution_count": 8,
   "metadata": {},
   "outputs": [
    {
     "name": "stdout",
     "output_type": "stream",
     "text": [
      "[[2077. 3930. 4281. 3090.]\n",
      " [1839. 3521. 3714. 2785.]\n",
      " [1496. 2882. 2988. 2286.]\n",
      " [ 794. 1526. 1611. 1230.]]\n",
      "[[2077. 3930. 4281. 3090.]\n",
      " [1839. 3521. 3714. 2785.]\n",
      " [1496. 2882. 2988. 2286.]\n",
      " [ 794. 1526. 1611. 1230.]]\n"
     ]
    }
   ],
   "source": [
    "# Your code here \n",
    "left = A.dot(B.dot(C))\n",
    "print(left)\n",
    "\n",
    "right = (A.dot(B)).dot(C)\n",
    "print(right)"
   ]
  },
  {
   "cell_type": "markdown",
   "metadata": {},
   "source": [
    "## Commutative Property - matrix multiplication is NOT commutative\n",
    "### Prove that for matrices, $A \\cdot B \\neq B \\cdot A $"
   ]
  },
  {
   "cell_type": "code",
   "execution_count": 10,
   "metadata": {},
   "outputs": [
    {
     "name": "stdout",
     "output_type": "stream",
     "text": [
      "[[159. 196. 164. 197.]\n",
      " [134. 166. 158. 173.]\n",
      " [106. 132. 134. 140.]\n",
      " [ 58.  66.  71.  80.]]\n",
      "[[145.  94.  68.  79.]\n",
      " [217. 164. 117. 113.]\n",
      " [203. 135.  97. 109.]\n",
      " [225. 157. 118. 133.]]\n"
     ]
    }
   ],
   "source": [
    "# Your code here \n",
    "left = A.dot(B)\n",
    "print(left)\n",
    "right = B.dot(A)\n",
    "print(right)"
   ]
  },
  {
   "cell_type": "markdown",
   "metadata": {},
   "source": [
    "## Commutative Property -  vector multiplication IS commutative\n",
    "### Prove that for vectors,  $x^T \\cdot y = y^T \\cdot x$\n",
    "Note: superscipt<sup>T</sup> denotes the transpose we saw earlier"
   ]
  },
  {
   "cell_type": "code",
   "execution_count": 16,
   "metadata": {},
   "outputs": [
    {
     "name": "stdout",
     "output_type": "stream",
     "text": [
      "110\n",
      "110\n"
     ]
    }
   ],
   "source": [
    "# Your code here \n",
    "import numpy as np\n",
    "\n",
    "x = np.array([2,3,4,5])\n",
    "y = np.array([6,7,8,9])\n",
    "\n",
    "left = (np.transpose(x)).dot(y)\n",
    "print(left)\n",
    "\n",
    "right = (np.transpose(y)).dot(x)\n",
    "print(right)"
   ]
  },
  {
   "cell_type": "markdown",
   "metadata": {},
   "source": [
    "## Simplification of the matrix product\n",
    "### Prove that $ (A \\cdot B)^T = B^T \\cdot A^T $"
   ]
  },
  {
   "cell_type": "code",
   "execution_count": 17,
   "metadata": {},
   "outputs": [
    {
     "name": "stdout",
     "output_type": "stream",
     "text": [
      "[[159. 134. 106.  58.]\n",
      " [196. 166. 132.  66.]\n",
      " [164. 158. 134.  71.]\n",
      " [197. 173. 140.  80.]]\n",
      "[[159. 134. 106.  58.]\n",
      " [196. 166. 132.  66.]\n",
      " [164. 158. 134.  71.]\n",
      " [197. 173. 140.  80.]]\n"
     ]
    },
    {
     "data": {
      "text/plain": [
       "array([[ True,  True,  True,  True],\n",
       "       [ True,  True,  True,  True],\n",
       "       [ True,  True,  True,  True],\n",
       "       [ True,  True,  True,  True]])"
      ]
     },
     "execution_count": 17,
     "metadata": {},
     "output_type": "execute_result"
    }
   ],
   "source": [
    "# Your code here \n",
    "left = np.transpose(A.dot(B))\n",
    "print(left)\n",
    "\n",
    "right = np.transpose(B).dot(np.transpose(A))\n",
    "print(right)\n",
    "\n",
    "left == right"
   ]
  },
  {
   "cell_type": "markdown",
   "metadata": {},
   "source": [
    "## Summary \n",
    "\n",
    "You've seen enough matrix algebra by now to solve a problem of linear equations as you saw earlier. You'll now see how to do this next. "
   ]
  }
 ],
 "metadata": {
  "kernelspec": {
   "display_name": "Python 3",
   "language": "python",
   "name": "python3"
  },
  "language_info": {
   "codemirror_mode": {
    "name": "ipython",
    "version": 3
   },
   "file_extension": ".py",
   "mimetype": "text/x-python",
   "name": "python",
   "nbconvert_exporter": "python",
   "pygments_lexer": "ipython3",
   "version": "3.6.6"
  },
  "toc": {
   "base_numbering": 1,
   "nav_menu": {},
   "number_sections": true,
   "sideBar": true,
   "skip_h1_title": false,
   "title_cell": "Table of Contents",
   "title_sidebar": "Contents",
   "toc_cell": true,
   "toc_position": {},
   "toc_section_display": true,
   "toc_window_display": false
  },
  "varInspector": {
   "cols": {
    "lenName": 16,
    "lenType": 16,
    "lenVar": 40
   },
   "kernels_config": {
    "python": {
     "delete_cmd_postfix": "",
     "delete_cmd_prefix": "del ",
     "library": "var_list.py",
     "varRefreshCmd": "print(var_dic_list())"
    },
    "r": {
     "delete_cmd_postfix": ") ",
     "delete_cmd_prefix": "rm(",
     "library": "var_list.r",
     "varRefreshCmd": "cat(var_dic_list()) "
    }
   },
   "types_to_exclude": [
    "module",
    "function",
    "builtin_function_or_method",
    "instance",
    "_Feature"
   ],
   "window_display": false
  }
 },
 "nbformat": 4,
 "nbformat_minor": 2
}
